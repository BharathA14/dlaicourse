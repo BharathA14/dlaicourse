{
  "nbformat": 4,
  "nbformat_minor": 0,
  "metadata": {
    "colab": {
      "name": "NLP-Week4-Exercise-Shakespeare-Question.ipynb",
      "provenance": []
    },
    "kernelspec": {
      "name": "python3",
      "display_name": "Python 3"
    },
    "accelerator": "GPU"
  },
  "cells": [
    {
      "cell_type": "code",
      "metadata": {
        "id": "BOwsuGQQY9OL",
        "colab_type": "code",
        "colab": {}
      },
      "source": [
        "from tensorflow.keras.preprocessing.sequence import pad_sequences\n",
        "from tensorflow.keras.layers import Embedding, LSTM, Dense, Dropout, Bidirectional\n",
        "from tensorflow.keras.preprocessing.text import Tokenizer\n",
        "from tensorflow.keras.models import Sequential\n",
        "from tensorflow.keras.optimizers import Adam\n",
        "### YOUR CODE HERE\n",
        "# Figure out how to import regularizers\n",
        "###\n",
        "from tensorflow.keras import regularizers\n",
        "import tensorflow.keras.utils as ku \n",
        "import numpy as np "
      ],
      "execution_count": 0,
      "outputs": []
    },
    {
      "cell_type": "code",
      "metadata": {
        "colab_type": "code",
        "id": "PRnDnCW-Z7qv",
        "colab": {
          "base_uri": "https://localhost:8080/",
          "height": 217
        },
        "outputId": "c5f574d1-d81e-4632-e38d-fe6bf3458b0d"
      },
      "source": [
        "tokenizer = Tokenizer()\n",
        "!wget --no-check-certificate \\\n",
        "    https://storage.googleapis.com/laurencemoroney-blog.appspot.com/sonnets.txt \\\n",
        "    -O /tmp/sonnets.txt\n",
        "data = open('/tmp/sonnets.txt').read()\n",
        "\n",
        "corpus = data.lower().split(\"\\n\")\n",
        "\n",
        "\n",
        "tokenizer.fit_on_texts(corpus)\n",
        "total_words = len(tokenizer.word_index) + 1\n",
        "\n",
        "# create input sequences using list of tokens\n",
        "input_sequences = []\n",
        "for line in corpus:\n",
        "#\tprint(tokenizer.texts_to_sequences([line]))\n",
        "\ttoken_list = tokenizer.texts_to_sequences([line])[0]\n",
        "#\tprint(token_list)\n",
        "\tfor i in range(1, len(token_list)):\n",
        "\t\tn_gram_sequence = token_list[:i+1]\n",
        "\t\tinput_sequences.append(n_gram_sequence)\n",
        "\n",
        "\n",
        "# pad sequences \n",
        "max_sequence_len = max([len(x) for x in input_sequences])\n",
        "input_sequences = np.array(pad_sequences(input_sequences, maxlen=max_sequence_len, padding='pre'))\n",
        "\n",
        "# create predictors and label\n",
        "predictors, label = input_sequences[:,:-1],input_sequences[:,-1]\n",
        "\n",
        "label = ku.to_categorical(label, num_classes=total_words)"
      ],
      "execution_count": 4,
      "outputs": [
        {
          "output_type": "stream",
          "text": [
            "--2020-05-03 07:46:12--  https://storage.googleapis.com/laurencemoroney-blog.appspot.com/sonnets.txt\n",
            "Resolving storage.googleapis.com (storage.googleapis.com)... 74.125.143.128, 2a00:1450:4013:c00::80\n",
            "Connecting to storage.googleapis.com (storage.googleapis.com)|74.125.143.128|:443... connected.\n",
            "HTTP request sent, awaiting response... 200 OK\n",
            "Length: 93578 (91K) [text/plain]\n",
            "Saving to: ‘/tmp/sonnets.txt’\n",
            "\n",
            "\r/tmp/sonnets.txt      0%[                    ]       0  --.-KB/s               \r/tmp/sonnets.txt    100%[===================>]  91.38K  --.-KB/s    in 0.001s  \n",
            "\n",
            "2020-05-03 07:46:12 (96.4 MB/s) - ‘/tmp/sonnets.txt’ saved [93578/93578]\n",
            "\n"
          ],
          "name": "stdout"
        }
      ]
    },
    {
      "cell_type": "code",
      "metadata": {
        "id": "w9vH8Y59ajYL",
        "colab_type": "code",
        "colab": {
          "base_uri": "https://localhost:8080/",
          "height": 399
        },
        "outputId": "cab23c4b-b0cf-4340-fa86-9a0767ea62b3"
      },
      "source": [
        "model = Sequential()\n",
        "model.add(Embedding(total_words,100,input_length=max_sequence_len-1))\n",
        "model.add(LSTM(200,return_sequences=True))\n",
        "model.add(Dropout(0.2))\n",
        "model.add(LSTM(100))\n",
        "model.add(Dense(512,kernel_regularizer=regularizers.l2(0.01)))\n",
        "model.add(Dense(total_words, activation='softmax'))\n",
        "# Pick an optimizer\n",
        "model.compile(loss='categorical_crossentropy', optimizer='adam', metrics=['accuracy'])\n",
        "print(model.summary())\n"
      ],
      "execution_count": 7,
      "outputs": [
        {
          "output_type": "stream",
          "text": [
            "Model: \"sequential_1\"\n",
            "_________________________________________________________________\n",
            "Layer (type)                 Output Shape              Param #   \n",
            "=================================================================\n",
            "embedding_1 (Embedding)      (None, 10, 100)           321100    \n",
            "_________________________________________________________________\n",
            "lstm_2 (LSTM)                (None, 10, 200)           240800    \n",
            "_________________________________________________________________\n",
            "dropout_1 (Dropout)          (None, 10, 200)           0         \n",
            "_________________________________________________________________\n",
            "lstm_3 (LSTM)                (None, 100)               120400    \n",
            "_________________________________________________________________\n",
            "dense (Dense)                (None, 512)               51712     \n",
            "_________________________________________________________________\n",
            "dense_1 (Dense)              (None, 3211)              1647243   \n",
            "=================================================================\n",
            "Total params: 2,381,255\n",
            "Trainable params: 2,381,255\n",
            "Non-trainable params: 0\n",
            "_________________________________________________________________\n",
            "None\n"
          ],
          "name": "stdout"
        }
      ]
    },
    {
      "cell_type": "code",
      "metadata": {
        "id": "AIg2f1HBxqof",
        "colab_type": "code",
        "colab": {
          "base_uri": "https://localhost:8080/",
          "height": 1000
        },
        "outputId": "b75c6157-3c6d-43dc-a82e-c668619f9fff"
      },
      "source": [
        " history = model.fit(predictors, label, epochs=100, verbose=1)"
      ],
      "execution_count": 8,
      "outputs": [
        {
          "output_type": "stream",
          "text": [
            "Epoch 1/100\n",
            "484/484 [==============================] - 5s 10ms/step - loss: 7.0687 - accuracy: 0.0209\n",
            "Epoch 2/100\n",
            "484/484 [==============================] - 5s 10ms/step - loss: 6.5222 - accuracy: 0.0211\n",
            "Epoch 3/100\n",
            "484/484 [==============================] - 5s 10ms/step - loss: 6.4521 - accuracy: 0.0257\n",
            "Epoch 4/100\n",
            "484/484 [==============================] - 5s 10ms/step - loss: 6.3525 - accuracy: 0.0266\n",
            "Epoch 5/100\n",
            "484/484 [==============================] - 5s 10ms/step - loss: 6.2790 - accuracy: 0.0314\n",
            "Epoch 6/100\n",
            "484/484 [==============================] - 5s 10ms/step - loss: 6.2085 - accuracy: 0.0374\n",
            "Epoch 7/100\n",
            "484/484 [==============================] - 5s 10ms/step - loss: 6.1356 - accuracy: 0.0392\n",
            "Epoch 8/100\n",
            "484/484 [==============================] - 5s 10ms/step - loss: 6.0575 - accuracy: 0.0438\n",
            "Epoch 9/100\n",
            "484/484 [==============================] - 5s 10ms/step - loss: 5.9658 - accuracy: 0.0449\n",
            "Epoch 10/100\n",
            "484/484 [==============================] - 5s 10ms/step - loss: 5.8601 - accuracy: 0.0530\n",
            "Epoch 11/100\n",
            "484/484 [==============================] - 5s 10ms/step - loss: 5.7567 - accuracy: 0.0589\n",
            "Epoch 12/100\n",
            "484/484 [==============================] - 5s 10ms/step - loss: 5.6498 - accuracy: 0.0637\n",
            "Epoch 13/100\n",
            "484/484 [==============================] - 5s 10ms/step - loss: 5.5473 - accuracy: 0.0668\n",
            "Epoch 14/100\n",
            "484/484 [==============================] - 5s 10ms/step - loss: 5.4450 - accuracy: 0.0729\n",
            "Epoch 15/100\n",
            "484/484 [==============================] - 5s 10ms/step - loss: 5.3479 - accuracy: 0.0770\n",
            "Epoch 16/100\n",
            "484/484 [==============================] - 5s 10ms/step - loss: 5.2549 - accuracy: 0.0816\n",
            "Epoch 17/100\n",
            "484/484 [==============================] - 5s 10ms/step - loss: 5.1626 - accuracy: 0.0898\n",
            "Epoch 18/100\n",
            "484/484 [==============================] - 5s 10ms/step - loss: 5.0677 - accuracy: 0.0941\n",
            "Epoch 19/100\n",
            "484/484 [==============================] - 5s 10ms/step - loss: 4.9814 - accuracy: 0.0976\n",
            "Epoch 20/100\n",
            "484/484 [==============================] - 5s 10ms/step - loss: 4.8807 - accuracy: 0.1080\n",
            "Epoch 21/100\n",
            "484/484 [==============================] - 5s 10ms/step - loss: 4.7910 - accuracy: 0.1143\n",
            "Epoch 22/100\n",
            "484/484 [==============================] - 5s 11ms/step - loss: 4.6937 - accuracy: 0.1223\n",
            "Epoch 23/100\n",
            "484/484 [==============================] - 5s 10ms/step - loss: 4.5952 - accuracy: 0.1314\n",
            "Epoch 24/100\n",
            "484/484 [==============================] - 5s 10ms/step - loss: 4.5011 - accuracy: 0.1392\n",
            "Epoch 25/100\n",
            "484/484 [==============================] - 5s 10ms/step - loss: 4.4061 - accuracy: 0.1540\n",
            "Epoch 26/100\n",
            "484/484 [==============================] - 5s 10ms/step - loss: 4.3052 - accuracy: 0.1629\n",
            "Epoch 27/100\n",
            "484/484 [==============================] - 5s 10ms/step - loss: 4.2104 - accuracy: 0.1735\n",
            "Epoch 28/100\n",
            "484/484 [==============================] - 5s 10ms/step - loss: 4.1028 - accuracy: 0.1901\n",
            "Epoch 29/100\n",
            "484/484 [==============================] - 5s 10ms/step - loss: 4.0196 - accuracy: 0.2077\n",
            "Epoch 30/100\n",
            "484/484 [==============================] - 5s 10ms/step - loss: 3.9307 - accuracy: 0.2205\n",
            "Epoch 31/100\n",
            "484/484 [==============================] - 5s 10ms/step - loss: 3.8336 - accuracy: 0.2411\n",
            "Epoch 32/100\n",
            "484/484 [==============================] - 5s 10ms/step - loss: 3.7504 - accuracy: 0.2538\n",
            "Epoch 33/100\n",
            "484/484 [==============================] - 5s 10ms/step - loss: 3.6593 - accuracy: 0.2749\n",
            "Epoch 34/100\n",
            "484/484 [==============================] - 5s 10ms/step - loss: 3.5619 - accuracy: 0.2934\n",
            "Epoch 35/100\n",
            "484/484 [==============================] - 5s 10ms/step - loss: 3.4901 - accuracy: 0.3074\n",
            "Epoch 36/100\n",
            "484/484 [==============================] - 5s 10ms/step - loss: 3.3973 - accuracy: 0.3284\n",
            "Epoch 37/100\n",
            "484/484 [==============================] - 5s 10ms/step - loss: 3.3179 - accuracy: 0.3390\n",
            "Epoch 38/100\n",
            "484/484 [==============================] - 5s 10ms/step - loss: 3.2240 - accuracy: 0.3622\n",
            "Epoch 39/100\n",
            "484/484 [==============================] - 5s 10ms/step - loss: 3.1524 - accuracy: 0.3828\n",
            "Epoch 40/100\n",
            "484/484 [==============================] - 5s 10ms/step - loss: 3.0672 - accuracy: 0.3966\n",
            "Epoch 41/100\n",
            "484/484 [==============================] - 5s 10ms/step - loss: 2.9950 - accuracy: 0.4115\n",
            "Epoch 42/100\n",
            "484/484 [==============================] - 5s 10ms/step - loss: 2.9122 - accuracy: 0.4293\n",
            "Epoch 43/100\n",
            "484/484 [==============================] - 5s 10ms/step - loss: 2.8509 - accuracy: 0.4479\n",
            "Epoch 44/100\n",
            "484/484 [==============================] - 5s 10ms/step - loss: 2.7865 - accuracy: 0.4677\n",
            "Epoch 45/100\n",
            "484/484 [==============================] - 5s 10ms/step - loss: 2.7170 - accuracy: 0.4759\n",
            "Epoch 46/100\n",
            "484/484 [==============================] - 5s 10ms/step - loss: 2.6529 - accuracy: 0.4915\n",
            "Epoch 47/100\n",
            "484/484 [==============================] - 5s 10ms/step - loss: 2.5900 - accuracy: 0.5014\n",
            "Epoch 48/100\n",
            "484/484 [==============================] - 5s 10ms/step - loss: 2.5312 - accuracy: 0.5195\n",
            "Epoch 49/100\n",
            "484/484 [==============================] - 5s 10ms/step - loss: 2.4720 - accuracy: 0.5322\n",
            "Epoch 50/100\n",
            "484/484 [==============================] - 5s 10ms/step - loss: 2.4205 - accuracy: 0.5422\n",
            "Epoch 51/100\n",
            "484/484 [==============================] - 5s 10ms/step - loss: 2.3535 - accuracy: 0.5598\n",
            "Epoch 52/100\n",
            "484/484 [==============================] - 5s 10ms/step - loss: 2.3124 - accuracy: 0.5668\n",
            "Epoch 53/100\n",
            "484/484 [==============================] - 5s 10ms/step - loss: 2.2612 - accuracy: 0.5782\n",
            "Epoch 54/100\n",
            "484/484 [==============================] - 5s 10ms/step - loss: 2.2173 - accuracy: 0.5922\n",
            "Epoch 55/100\n",
            "484/484 [==============================] - 5s 10ms/step - loss: 2.1592 - accuracy: 0.6024\n",
            "Epoch 56/100\n",
            "484/484 [==============================] - 5s 10ms/step - loss: 2.1242 - accuracy: 0.6106\n",
            "Epoch 57/100\n",
            "484/484 [==============================] - 5s 10ms/step - loss: 2.0744 - accuracy: 0.6198\n",
            "Epoch 58/100\n",
            "484/484 [==============================] - 5s 10ms/step - loss: 2.0208 - accuracy: 0.6323\n",
            "Epoch 59/100\n",
            "484/484 [==============================] - 5s 10ms/step - loss: 2.0013 - accuracy: 0.6323\n",
            "Epoch 60/100\n",
            "484/484 [==============================] - 5s 10ms/step - loss: 1.9595 - accuracy: 0.6478\n",
            "Epoch 61/100\n",
            "484/484 [==============================] - 5s 10ms/step - loss: 1.9357 - accuracy: 0.6460\n",
            "Epoch 62/100\n",
            "484/484 [==============================] - 5s 10ms/step - loss: 1.8885 - accuracy: 0.6621\n",
            "Epoch 63/100\n",
            "484/484 [==============================] - 5s 10ms/step - loss: 1.8666 - accuracy: 0.6606\n",
            "Epoch 64/100\n",
            "484/484 [==============================] - 5s 10ms/step - loss: 1.8228 - accuracy: 0.6769\n",
            "Epoch 65/100\n",
            "484/484 [==============================] - 5s 10ms/step - loss: 1.7809 - accuracy: 0.6863\n",
            "Epoch 66/100\n",
            "484/484 [==============================] - 5s 10ms/step - loss: 1.7608 - accuracy: 0.6879\n",
            "Epoch 67/100\n",
            "484/484 [==============================] - 5s 10ms/step - loss: 1.7370 - accuracy: 0.6937\n",
            "Epoch 68/100\n",
            "484/484 [==============================] - 5s 10ms/step - loss: 1.7109 - accuracy: 0.6986\n",
            "Epoch 69/100\n",
            "484/484 [==============================] - 5s 10ms/step - loss: 1.6706 - accuracy: 0.7048\n",
            "Epoch 70/100\n",
            "484/484 [==============================] - 5s 10ms/step - loss: 1.6520 - accuracy: 0.7128\n",
            "Epoch 71/100\n",
            "484/484 [==============================] - 5s 10ms/step - loss: 1.6300 - accuracy: 0.7118\n",
            "Epoch 72/100\n",
            "484/484 [==============================] - 5s 10ms/step - loss: 1.6121 - accuracy: 0.7164\n",
            "Epoch 73/100\n",
            "484/484 [==============================] - 5s 10ms/step - loss: 1.5817 - accuracy: 0.7264\n",
            "Epoch 74/100\n",
            "484/484 [==============================] - 5s 10ms/step - loss: 1.5732 - accuracy: 0.7275\n",
            "Epoch 75/100\n",
            "484/484 [==============================] - 6s 13ms/step - loss: 1.5445 - accuracy: 0.7361\n",
            "Epoch 76/100\n",
            "484/484 [==============================] - 5s 10ms/step - loss: 1.5254 - accuracy: 0.7326\n",
            "Epoch 77/100\n",
            "484/484 [==============================] - 5s 10ms/step - loss: 1.5098 - accuracy: 0.7405\n",
            "Epoch 78/100\n",
            "484/484 [==============================] - 5s 10ms/step - loss: 1.4841 - accuracy: 0.7432\n",
            "Epoch 79/100\n",
            "484/484 [==============================] - 5s 10ms/step - loss: 1.4652 - accuracy: 0.7460\n",
            "Epoch 80/100\n",
            "484/484 [==============================] - 5s 10ms/step - loss: 1.4481 - accuracy: 0.7493\n",
            "Epoch 81/100\n",
            "484/484 [==============================] - 5s 10ms/step - loss: 1.4385 - accuracy: 0.7480\n",
            "Epoch 82/100\n",
            "484/484 [==============================] - 5s 10ms/step - loss: 1.3982 - accuracy: 0.7634\n",
            "Epoch 83/100\n",
            "484/484 [==============================] - 5s 10ms/step - loss: 1.3989 - accuracy: 0.7579\n",
            "Epoch 84/100\n",
            "484/484 [==============================] - 5s 10ms/step - loss: 1.3931 - accuracy: 0.7601\n",
            "Epoch 85/100\n",
            "484/484 [==============================] - 5s 10ms/step - loss: 1.3664 - accuracy: 0.7671\n",
            "Epoch 86/100\n",
            "484/484 [==============================] - 5s 11ms/step - loss: 1.3654 - accuracy: 0.7635\n",
            "Epoch 87/100\n",
            "484/484 [==============================] - 5s 11ms/step - loss: 1.3505 - accuracy: 0.7675\n",
            "Epoch 88/100\n",
            "484/484 [==============================] - 5s 10ms/step - loss: 1.3372 - accuracy: 0.7700\n",
            "Epoch 89/100\n",
            "484/484 [==============================] - 5s 10ms/step - loss: 1.3209 - accuracy: 0.7714\n",
            "Epoch 90/100\n",
            "484/484 [==============================] - 5s 10ms/step - loss: 1.3205 - accuracy: 0.7738\n",
            "Epoch 91/100\n",
            "484/484 [==============================] - 5s 10ms/step - loss: 1.2991 - accuracy: 0.7722\n",
            "Epoch 92/100\n",
            "484/484 [==============================] - 5s 10ms/step - loss: 1.2875 - accuracy: 0.7780\n",
            "Epoch 93/100\n",
            "484/484 [==============================] - 5s 10ms/step - loss: 1.2865 - accuracy: 0.7770\n",
            "Epoch 94/100\n",
            "484/484 [==============================] - 5s 10ms/step - loss: 1.2647 - accuracy: 0.7833\n",
            "Epoch 95/100\n",
            "484/484 [==============================] - 5s 10ms/step - loss: 1.2541 - accuracy: 0.7850\n",
            "Epoch 96/100\n",
            "484/484 [==============================] - 5s 10ms/step - loss: 1.2455 - accuracy: 0.7868\n",
            "Epoch 97/100\n",
            "484/484 [==============================] - 5s 10ms/step - loss: 1.2342 - accuracy: 0.7871\n",
            "Epoch 98/100\n",
            "484/484 [==============================] - 5s 10ms/step - loss: 1.2179 - accuracy: 0.7921\n",
            "Epoch 99/100\n",
            "484/484 [==============================] - 5s 10ms/step - loss: 1.2004 - accuracy: 0.7937\n",
            "Epoch 100/100\n",
            "484/484 [==============================] - 5s 10ms/step - loss: 1.2199 - accuracy: 0.7841\n"
          ],
          "name": "stdout"
        }
      ]
    },
    {
      "cell_type": "code",
      "metadata": {
        "id": "1fXTEO3GJ282",
        "colab_type": "code",
        "colab": {
          "base_uri": "https://localhost:8080/",
          "height": 545
        },
        "outputId": "8b1c6804-a664-4dcd-a477-169f484587c9"
      },
      "source": [
        "import matplotlib.pyplot as plt\n",
        "acc = history.history['accuracy']\n",
        "loss = history.history['loss']\n",
        "\n",
        "epochs = range(len(acc))\n",
        "\n",
        "plt.plot(epochs, acc, 'b', label='Training accuracy')\n",
        "plt.title('Training accuracy')\n",
        "\n",
        "plt.figure()\n",
        "\n",
        "plt.plot(epochs, loss, 'b', label='Training Loss')\n",
        "plt.title('Training loss')\n",
        "plt.legend()\n",
        "\n",
        "plt.show()"
      ],
      "execution_count": 10,
      "outputs": [
        {
          "output_type": "display_data",
          "data": {
            "image/png": "[encoded data removed]",
            "text/plain": [
              "<Figure size 432x288 with 1 Axes>"
            ]
          },
          "metadata": {
            "tags": [],
            "needs_background": "light"
          }
        },
        {
          "output_type": "display_data",
          "data": {
            "image/png": "[encoded data removed]",
            "text/plain": [
              "<Figure size 432x288 with 1 Axes>"
            ]
          },
          "metadata": {
            "tags": [],
            "needs_background": "light"
          }
        }
      ]
    },
    {
      "cell_type": "code",
      "metadata": {
        "id": "6Vc6PHgxa6Hm",
        "colab_type": "code",
        "colab": {
          "base_uri": "https://localhost:8080/",
          "height": 35
        },
        "outputId": "cb601cf0-df70-4309-f5f5-c4a089eebdf4"
      },
      "source": [
        "seed_text = \"Help me Obi Wan Kenobi, you're my only hope\"\n",
        "next_words = 10\n",
        "  \n",
        "for _ in range(next_words):\n",
        "\ttoken_list = tokenizer.texts_to_sequences([seed_text])[0]\n",
        "\ttoken_list = pad_sequences([token_list], maxlen=max_sequence_len-1, padding='pre')\n",
        "\tpredicted = model.predict_classes(token_list, verbose=0)\n",
        "\toutput_word = \"\"\n",
        "\tfor word, index in tokenizer.word_index.items():\n",
        "\t\tif index == predicted:\n",
        "\t\t\toutput_word = word\n",
        "\t\t\tbreak\n",
        "\tseed_text += \" \" + output_word\n",
        "print(seed_text)"
      ],
      "execution_count": 12,
      "outputs": [
        {
          "output_type": "stream",
          "text": [
            "Help me Obi Wan Kenobi, you're my only hope his sickle and shore effect back dead pride 'will' it\n"
          ],
          "name": "stdout"
        }
      ]
    },
    {
      "cell_type": "code",
      "metadata": {
        "id": "_Rh_AlUSkNPn",
        "colab_type": "code",
        "colab": {}
      },
      "source": [
        ""
      ],
      "execution_count": 0,
      "outputs": []
    }
  ]
}